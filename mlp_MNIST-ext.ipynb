{
 "cells": [
  {
   "cell_type": "markdown",
   "metadata": {},
   "source": [
    "# ANN Intro extended\n",
    "\n",
    "This NB is constructed such that it also runs in reasonable time on Laptop CPUs (e.g. an i3)\n",
    "\n",
    "It builds on the NB from the last practical."
   ]
  },
  {
   "cell_type": "markdown",
   "metadata": {},
   "source": [
    "## Local Setup\n",
    "\n",
    "There are different options to set up the TensorFlow library (which now includes [Keras](https://keras.io) as backend library) on your own computer. The simplest of them is using only the CPU and can be installed in 1 command via [`conda`](https://docs.anaconda.com/anaconda/user-guide/tasks/tensorflow/), in an anaconda shell run:\n",
    "\n",
    "```\n",
    "conda install tensorflow\n",
    "```\n",
    "\n",
    "**NOTE**: TF migth not be compatible with your current environment, so here we create a [new environment](https://conda.io/docs/user-guide/tasks/manage-environments.html#creating-an-environment-with-commands) first:\n",
    "\n",
    "```\n",
    "conda create -n tf tensorflow\n",
    "conda activate tf\n",
    "```\n",
    "\n",
    "In that case you need to install jupyter, scikit-learn, matplotlib, numpy and pandas in that environment again, with e.g.:\n",
    "\n",
    "```\n",
    "conda install jupyter scikit-learn matplotlib numpy pandas\n",
    "```\n",
    "\n",
    "(If you have a [supported Nvidia graphics card](https://developer.nvidia.com/cuda-gpus) in your machine and would like to use it for accelerated network training, make sure to follow [this guide](https://www.tensorflow.org/install/gpu) to install required packages and finally use the `tensorflow-gpu` library.)\n",
    "\n",
    "The usage of the TensorFlow library in Python will be the same for CPU and GPU."
   ]
  },
  {
   "cell_type": "code",
   "execution_count": 1,
   "metadata": {},
   "outputs": [
    {
     "data": {
      "text/plain": [
       "dict_keys(['data', 'target', 'feature_names', 'DESCR', 'details', 'categories', 'url'])"
      ]
     },
     "execution_count": 1,
     "metadata": {},
     "output_type": "execute_result"
    }
   ],
   "source": [
    "## fetch MNIST dataset (as done in last NB)\n",
    "from sklearn.datasets import fetch_openml\n",
    "mnist = fetch_openml('mnist_784', version=1)\n",
    "mnist.keys()"
   ]
  },
  {
   "cell_type": "code",
   "execution_count": 2,
   "metadata": {},
   "outputs": [
    {
     "name": "stdout",
     "output_type": "stream",
     "text": [
      "1.0\n"
     ]
    },
    {
     "data": {
      "text/plain": [
       "(50000, 784)"
      ]
     },
     "execution_count": 2,
     "metadata": {},
     "output_type": "execute_result"
    }
   ],
   "source": [
    "## Scale the input data into the range [0, 1]\n",
    "## use sklearn's train_test_split to split the data into \n",
    "## 50000 instances for training, 10000 for validation and 10000 for testing\n",
    "from sklearn.model_selection import train_test_split\n",
    "\n",
    "X= mnist.data\n",
    "X= X / 255.0\n",
    "print(X.max())\n",
    "y= mnist.target\n",
    "\n",
    "X_train_val, X_test, y_train_val, y_test = train_test_split(\n",
    "    X, y, test_size=10000, random_state=42)\n",
    "\n",
    "X_train, X_val, y_train, y_val = train_test_split(\n",
    "    X_train_val, y_train_val, test_size=10000, random_state=42)\n",
    "\n",
    "X_train.shape"
   ]
  },
  {
   "cell_type": "markdown",
   "metadata": {},
   "source": [
    "Now it's time to test your TensorFlow installation by importing the package. The following code cell should execute without errors:"
   ]
  },
  {
   "cell_type": "code",
   "execution_count": 3,
   "metadata": {},
   "outputs": [],
   "source": [
    "import tensorflow as tf"
   ]
  },
  {
   "cell_type": "markdown",
   "metadata": {},
   "source": [
    "Now let's check which computing devices TensorFlow has found on this machine. If you don't have the GPU setup on your computer, the list should just contain one CPU: `/device:CPU:0` "
   ]
  },
  {
   "cell_type": "code",
   "execution_count": 4,
   "metadata": {},
   "outputs": [
    {
     "name": "stdout",
     "output_type": "stream",
     "text": [
      "[name: \"/device:CPU:0\"\n",
      "device_type: \"CPU\"\n",
      "memory_limit: 268435456\n",
      "locality {\n",
      "}\n",
      "incarnation: 14076270744688629216\n",
      ", name: \"/device:XLA_CPU:0\"\n",
      "device_type: \"XLA_CPU\"\n",
      "memory_limit: 17179869184\n",
      "locality {\n",
      "}\n",
      "incarnation: 2875835208630226592\n",
      "physical_device_desc: \"device: XLA_CPU device\"\n",
      "]\n"
     ]
    }
   ],
   "source": [
    "from tensorflow.python.client import device_lib\n",
    "print(device_lib.list_local_devices())"
   ]
  },
  {
   "cell_type": "markdown",
   "metadata": {},
   "source": [
    "The cell below creates a similar MLP as above using tf.keras, see also this [tutorial network](https://github.com/keras-team/keras/blob/fcc0bfa354c5a47625d681d0297a66ef9ff43a9e/examples/mnist_mlp.py) which also uses the MNIST dataset.\n",
    "\n",
    "Keras has a nice method `model.summary()` that prints a tabular overview of your network architecture, together with the input/output dimensions and number of parameters for each layer."
   ]
  },
  {
   "cell_type": "code",
   "execution_count": 15,
   "metadata": {},
   "outputs": [
    {
     "name": "stdout",
     "output_type": "stream",
     "text": [
      "2.3.0\n",
      "2.4.0\n",
      "50000 train samples\n",
      "10000 test samples\n",
      "Model: \"sequential_4\"\n",
      "_________________________________________________________________\n",
      "Layer (type)                 Output Shape              Param #   \n",
      "=================================================================\n",
      "dense_12 (Dense)             (None, 100)               78500     \n",
      "_________________________________________________________________\n",
      "dense_13 (Dense)             (None, 50)                5050      \n",
      "_________________________________________________________________\n",
      "dense_14 (Dense)             (None, 10)                510       \n",
      "=================================================================\n",
      "Total params: 84,060\n",
      "Trainable params: 84,060\n",
      "Non-trainable params: 0\n",
      "_________________________________________________________________\n",
      "Epoch 1/100\n",
      "500/500 [==============================] - 2s 5ms/step - loss: 0.3582 - accuracy: 0.8986 - val_loss: 0.1945 - val_accuracy: 0.9431\n",
      "Epoch 2/100\n",
      "500/500 [==============================] - 2s 4ms/step - loss: 0.1535 - accuracy: 0.9545 - val_loss: 0.1286 - val_accuracy: 0.9615\n",
      "Epoch 3/100\n",
      "500/500 [==============================] - 2s 4ms/step - loss: 0.1096 - accuracy: 0.9677 - val_loss: 0.1067 - val_accuracy: 0.9689\n",
      "Epoch 4/100\n",
      "500/500 [==============================] - 2s 4ms/step - loss: 0.0829 - accuracy: 0.9760 - val_loss: 0.0944 - val_accuracy: 0.9718\n",
      "Epoch 5/100\n",
      "500/500 [==============================] - 2s 4ms/step - loss: 0.0669 - accuracy: 0.9798 - val_loss: 0.0927 - val_accuracy: 0.9711\n",
      "Epoch 6/100\n",
      "500/500 [==============================] - 2s 4ms/step - loss: 0.0549 - accuracy: 0.9832 - val_loss: 0.0891 - val_accuracy: 0.9740\n",
      "Epoch 7/100\n",
      "500/500 [==============================] - 2s 4ms/step - loss: 0.0443 - accuracy: 0.9863 - val_loss: 0.0834 - val_accuracy: 0.9758\n",
      "Epoch 8/100\n",
      "500/500 [==============================] - 2s 4ms/step - loss: 0.0358 - accuracy: 0.9892 - val_loss: 0.0862 - val_accuracy: 0.9758\n",
      "Epoch 9/100\n",
      "500/500 [==============================] - 2s 4ms/step - loss: 0.0298 - accuracy: 0.9912 - val_loss: 0.0797 - val_accuracy: 0.9763\n",
      "Epoch 10/100\n",
      "500/500 [==============================] - 2s 4ms/step - loss: 0.0263 - accuracy: 0.9916 - val_loss: 0.0845 - val_accuracy: 0.9748\n",
      "Epoch 11/100\n",
      "500/500 [==============================] - 2s 4ms/step - loss: 0.0213 - accuracy: 0.9937 - val_loss: 0.0925 - val_accuracy: 0.9732\n",
      "Epoch 12/100\n",
      "500/500 [==============================] - 2s 4ms/step - loss: 0.0204 - accuracy: 0.9936 - val_loss: 0.0953 - val_accuracy: 0.9750\n",
      "Epoch 13/100\n",
      "500/500 [==============================] - 2s 4ms/step - loss: 0.0154 - accuracy: 0.9952 - val_loss: 0.0893 - val_accuracy: 0.9766\n",
      "Epoch 14/100\n",
      "500/500 [==============================] - 2s 4ms/step - loss: 0.0129 - accuracy: 0.9960 - val_loss: 0.1002 - val_accuracy: 0.9739\n",
      "Epoch 15/100\n",
      "500/500 [==============================] - 2s 4ms/step - loss: 0.0103 - accuracy: 0.9969 - val_loss: 0.0924 - val_accuracy: 0.9777\n",
      "Epoch 16/100\n",
      "500/500 [==============================] - 2s 4ms/step - loss: 0.0132 - accuracy: 0.9957 - val_loss: 0.1040 - val_accuracy: 0.9764\n",
      "Epoch 17/100\n",
      "500/500 [==============================] - 2s 4ms/step - loss: 0.0094 - accuracy: 0.9969 - val_loss: 0.1005 - val_accuracy: 0.9765\n",
      "Epoch 18/100\n",
      "500/500 [==============================] - 2s 4ms/step - loss: 0.0107 - accuracy: 0.9967 - val_loss: 0.1072 - val_accuracy: 0.9762\n",
      "Epoch 19/100\n",
      "500/500 [==============================] - 2s 4ms/step - loss: 0.0065 - accuracy: 0.9981 - val_loss: 0.1040 - val_accuracy: 0.9769\n",
      "Epoch 20/100\n",
      "500/500 [==============================] - 2s 4ms/step - loss: 0.0095 - accuracy: 0.9967 - val_loss: 0.1099 - val_accuracy: 0.9764\n",
      "Epoch 21/100\n",
      "500/500 [==============================] - 2s 4ms/step - loss: 0.0082 - accuracy: 0.9974 - val_loss: 0.1167 - val_accuracy: 0.9744\n",
      "Epoch 22/100\n",
      "500/500 [==============================] - 2s 4ms/step - loss: 0.0052 - accuracy: 0.9985 - val_loss: 0.1208 - val_accuracy: 0.9766\n",
      "Epoch 23/100\n",
      "500/500 [==============================] - 2s 4ms/step - loss: 0.0075 - accuracy: 0.9975 - val_loss: 0.1386 - val_accuracy: 0.9733\n",
      "Epoch 24/100\n",
      "500/500 [==============================] - 2s 4ms/step - loss: 0.0119 - accuracy: 0.9964 - val_loss: 0.1266 - val_accuracy: 0.9750\n",
      "Epoch 25/100\n",
      "500/500 [==============================] - 2s 4ms/step - loss: 0.0032 - accuracy: 0.9991 - val_loss: 0.1127 - val_accuracy: 0.9784\n",
      "Epoch 26/100\n",
      "500/500 [==============================] - 2s 4ms/step - loss: 0.0037 - accuracy: 0.9990 - val_loss: 0.1263 - val_accuracy: 0.9763\n",
      "Epoch 27/100\n",
      "500/500 [==============================] - 2s 4ms/step - loss: 0.0075 - accuracy: 0.9974 - val_loss: 0.1308 - val_accuracy: 0.9747\n",
      "Epoch 28/100\n",
      "500/500 [==============================] - 2s 4ms/step - loss: 0.0081 - accuracy: 0.9973 - val_loss: 0.1409 - val_accuracy: 0.9753\n",
      "Epoch 29/100\n",
      "500/500 [==============================] - 2s 4ms/step - loss: 0.0063 - accuracy: 0.9978 - val_loss: 0.1425 - val_accuracy: 0.9744\n",
      "Epoch 30/100\n",
      "500/500 [==============================] - 2s 4ms/step - loss: 0.0054 - accuracy: 0.9984 - val_loss: 0.1346 - val_accuracy: 0.9754\n",
      "Epoch 31/100\n",
      "500/500 [==============================] - 2s 4ms/step - loss: 0.0040 - accuracy: 0.9990 - val_loss: 0.1309 - val_accuracy: 0.9764\n",
      "Epoch 32/100\n",
      "500/500 [==============================] - 2s 4ms/step - loss: 0.0070 - accuracy: 0.9979 - val_loss: 0.1437 - val_accuracy: 0.9740\n",
      "Epoch 33/100\n",
      "500/500 [==============================] - 2s 4ms/step - loss: 0.0052 - accuracy: 0.9982 - val_loss: 0.1432 - val_accuracy: 0.9752\n",
      "Epoch 34/100\n",
      "500/500 [==============================] - 2s 4ms/step - loss: 0.0035 - accuracy: 0.9989 - val_loss: 0.1586 - val_accuracy: 0.9726\n",
      "Epoch 35/100\n",
      "500/500 [==============================] - 2s 4ms/step - loss: 0.0026 - accuracy: 0.9991 - val_loss: 0.1356 - val_accuracy: 0.9779\n",
      "Epoch 36/100\n",
      "500/500 [==============================] - 2s 4ms/step - loss: 0.0078 - accuracy: 0.9973 - val_loss: 0.1657 - val_accuracy: 0.9745\n",
      "Epoch 37/100\n",
      "500/500 [==============================] - 2s 4ms/step - loss: 0.0082 - accuracy: 0.9972 - val_loss: 0.1368 - val_accuracy: 0.9758\n",
      "Epoch 38/100\n",
      "500/500 [==============================] - 2s 4ms/step - loss: 0.0034 - accuracy: 0.9990 - val_loss: 0.1784 - val_accuracy: 0.9732\n",
      "Epoch 39/100\n",
      "500/500 [==============================] - 2s 4ms/step - loss: 0.0032 - accuracy: 0.9990 - val_loss: 0.1458 - val_accuracy: 0.9757\n",
      "Epoch 40/100\n",
      "500/500 [==============================] - 2s 4ms/step - loss: 0.0082 - accuracy: 0.9974 - val_loss: 0.1410 - val_accuracy: 0.9777\n",
      "Epoch 41/100\n",
      "500/500 [==============================] - 2s 4ms/step - loss: 0.0014 - accuracy: 0.9995 - val_loss: 0.1467 - val_accuracy: 0.9786\n",
      "Epoch 42/100\n",
      "500/500 [==============================] - 2s 4ms/step - loss: 0.0027 - accuracy: 0.9992 - val_loss: 0.1488 - val_accuracy: 0.9759\n",
      "Epoch 43/100\n",
      "500/500 [==============================] - 2s 4ms/step - loss: 0.0069 - accuracy: 0.9978 - val_loss: 0.1529 - val_accuracy: 0.9755\n",
      "Epoch 44/100\n",
      "500/500 [==============================] - 2s 4ms/step - loss: 0.0061 - accuracy: 0.9981 - val_loss: 0.1552 - val_accuracy: 0.9765\n",
      "Epoch 45/100\n",
      "500/500 [==============================] - 2s 4ms/step - loss: 5.6780e-04 - accuracy: 0.9999 - val_loss: 0.1475 - val_accuracy: 0.9778\n",
      "Epoch 46/100\n",
      "500/500 [==============================] - 2s 4ms/step - loss: 1.8848e-04 - accuracy: 1.0000 - val_loss: 0.1419 - val_accuracy: 0.9795\n",
      "Epoch 47/100\n",
      "500/500 [==============================] - 2s 4ms/step - loss: 6.4028e-05 - accuracy: 1.0000 - val_loss: 0.1421 - val_accuracy: 0.9799\n",
      "Epoch 48/100\n",
      "500/500 [==============================] - 2s 4ms/step - loss: 4.9631e-05 - accuracy: 1.0000 - val_loss: 0.1424 - val_accuracy: 0.9799\n",
      "Epoch 49/100\n",
      "500/500 [==============================] - 2s 4ms/step - loss: 4.1310e-05 - accuracy: 1.0000 - val_loss: 0.1438 - val_accuracy: 0.9793\n",
      "Epoch 50/100\n",
      "500/500 [==============================] - 2s 4ms/step - loss: 3.4642e-05 - accuracy: 1.0000 - val_loss: 0.1448 - val_accuracy: 0.9793\n",
      "Epoch 51/100\n",
      "500/500 [==============================] - 2s 4ms/step - loss: 3.0067e-05 - accuracy: 1.0000 - val_loss: 0.1459 - val_accuracy: 0.9792\n",
      "Epoch 52/100\n"
     ]
    },
    {
     "name": "stdout",
     "output_type": "stream",
     "text": [
      "500/500 [==============================] - 2s 4ms/step - loss: 2.5511e-05 - accuracy: 1.0000 - val_loss: 0.1477 - val_accuracy: 0.9794\n",
      "Epoch 53/100\n",
      "500/500 [==============================] - 2s 4ms/step - loss: 2.1707e-05 - accuracy: 1.0000 - val_loss: 0.1489 - val_accuracy: 0.9794\n",
      "Epoch 54/100\n",
      "500/500 [==============================] - 2s 4ms/step - loss: 1.9118e-05 - accuracy: 1.0000 - val_loss: 0.1498 - val_accuracy: 0.9793\n",
      "Epoch 55/100\n",
      "500/500 [==============================] - 2s 4ms/step - loss: 1.6239e-05 - accuracy: 1.0000 - val_loss: 0.1518 - val_accuracy: 0.9791\n",
      "Epoch 56/100\n",
      "500/500 [==============================] - 2s 4ms/step - loss: 1.3568e-05 - accuracy: 1.0000 - val_loss: 0.1526 - val_accuracy: 0.9789\n",
      "Epoch 57/100\n",
      "500/500 [==============================] - 2s 4ms/step - loss: 1.2598e-05 - accuracy: 1.0000 - val_loss: 0.1555 - val_accuracy: 0.9790\n",
      "Epoch 58/100\n",
      "500/500 [==============================] - 2s 4ms/step - loss: 1.0490e-05 - accuracy: 1.0000 - val_loss: 0.1566 - val_accuracy: 0.9797\n",
      "Epoch 59/100\n",
      "500/500 [==============================] - 2s 4ms/step - loss: 0.0125 - accuracy: 0.9973 - val_loss: 0.2108 - val_accuracy: 0.9696\n",
      "Epoch 60/100\n",
      "500/500 [==============================] - 2s 4ms/step - loss: 0.0187 - accuracy: 0.9946 - val_loss: 0.1621 - val_accuracy: 0.9762\n",
      "Epoch 61/100\n",
      "500/500 [==============================] - 2s 4ms/step - loss: 0.0024 - accuracy: 0.9992 - val_loss: 0.1712 - val_accuracy: 0.9756\n",
      "Epoch 62/100\n",
      "500/500 [==============================] - 2s 4ms/step - loss: 0.0015 - accuracy: 0.9996 - val_loss: 0.1605 - val_accuracy: 0.9764\n",
      "Epoch 63/100\n",
      "500/500 [==============================] - 2s 4ms/step - loss: 0.0016 - accuracy: 0.9995 - val_loss: 0.1674 - val_accuracy: 0.9775\n",
      "Epoch 64/100\n",
      "500/500 [==============================] - 2s 4ms/step - loss: 0.0015 - accuracy: 0.9995 - val_loss: 0.1831 - val_accuracy: 0.9762\n",
      "Epoch 65/100\n",
      "500/500 [==============================] - 2s 4ms/step - loss: 0.0068 - accuracy: 0.9979 - val_loss: 0.1596 - val_accuracy: 0.9780\n",
      "Epoch 66/100\n",
      "500/500 [==============================] - 2s 4ms/step - loss: 0.0063 - accuracy: 0.9982 - val_loss: 0.1646 - val_accuracy: 0.9759\n",
      "Epoch 67/100\n",
      "500/500 [==============================] - 2s 4ms/step - loss: 0.0055 - accuracy: 0.9981 - val_loss: 0.1599 - val_accuracy: 0.9782\n",
      "Epoch 68/100\n",
      "500/500 [==============================] - 2s 4ms/step - loss: 0.0017 - accuracy: 0.9994 - val_loss: 0.1552 - val_accuracy: 0.9779\n",
      "Epoch 69/100\n",
      "500/500 [==============================] - 2s 4ms/step - loss: 8.7473e-04 - accuracy: 0.9997 - val_loss: 0.1728 - val_accuracy: 0.9762\n",
      "Epoch 70/100\n",
      "500/500 [==============================] - 2s 4ms/step - loss: 0.0038 - accuracy: 0.9988 - val_loss: 0.1609 - val_accuracy: 0.9781\n",
      "Epoch 71/100\n",
      "500/500 [==============================] - 2s 4ms/step - loss: 0.0075 - accuracy: 0.9972 - val_loss: 0.1715 - val_accuracy: 0.9758\n",
      "Epoch 72/100\n",
      "500/500 [==============================] - 2s 4ms/step - loss: 0.0034 - accuracy: 0.9989 - val_loss: 0.1519 - val_accuracy: 0.9799\n",
      "Epoch 73/100\n",
      "500/500 [==============================] - 2s 4ms/step - loss: 1.2585e-04 - accuracy: 1.0000 - val_loss: 0.1440 - val_accuracy: 0.9805\n",
      "Epoch 74/100\n",
      "500/500 [==============================] - 2s 4ms/step - loss: 4.3241e-05 - accuracy: 1.0000 - val_loss: 0.1459 - val_accuracy: 0.9802\n",
      "Epoch 75/100\n",
      "500/500 [==============================] - 2s 4ms/step - loss: 3.1926e-05 - accuracy: 1.0000 - val_loss: 0.1463 - val_accuracy: 0.9802\n",
      "Epoch 76/100\n",
      "500/500 [==============================] - 2s 4ms/step - loss: 2.6131e-05 - accuracy: 1.0000 - val_loss: 0.1467 - val_accuracy: 0.9803\n",
      "Epoch 77/100\n",
      "500/500 [==============================] - 2s 4ms/step - loss: 2.1848e-05 - accuracy: 1.0000 - val_loss: 0.1468 - val_accuracy: 0.9803\n",
      "Epoch 78/100\n",
      "500/500 [==============================] - 2s 4ms/step - loss: 1.8467e-05 - accuracy: 1.0000 - val_loss: 0.1484 - val_accuracy: 0.9802\n",
      "Epoch 79/100\n",
      "500/500 [==============================] - 2s 4ms/step - loss: 1.5771e-05 - accuracy: 1.0000 - val_loss: 0.1490 - val_accuracy: 0.9807\n",
      "Epoch 80/100\n",
      "500/500 [==============================] - 2s 4ms/step - loss: 1.3246e-05 - accuracy: 1.0000 - val_loss: 0.1504 - val_accuracy: 0.9808\n",
      "Epoch 81/100\n",
      "500/500 [==============================] - 2s 4ms/step - loss: 1.1171e-05 - accuracy: 1.0000 - val_loss: 0.1513 - val_accuracy: 0.9808\n",
      "Epoch 82/100\n",
      "500/500 [==============================] - 2s 4ms/step - loss: 9.4186e-06 - accuracy: 1.0000 - val_loss: 0.1534 - val_accuracy: 0.9809\n",
      "Epoch 83/100\n",
      "500/500 [==============================] - 2s 4ms/step - loss: 7.9873e-06 - accuracy: 1.0000 - val_loss: 0.1539 - val_accuracy: 0.9806\n",
      "Epoch 84/100\n",
      "500/500 [==============================] - 2s 4ms/step - loss: 6.7535e-06 - accuracy: 1.0000 - val_loss: 0.1557 - val_accuracy: 0.9807\n",
      "Epoch 85/100\n",
      "500/500 [==============================] - 2s 4ms/step - loss: 5.6753e-06 - accuracy: 1.0000 - val_loss: 0.1564 - val_accuracy: 0.9808\n",
      "Epoch 86/100\n",
      "500/500 [==============================] - 2s 4ms/step - loss: 4.6892e-06 - accuracy: 1.0000 - val_loss: 0.1582 - val_accuracy: 0.9811\n",
      "Epoch 87/100\n",
      "500/500 [==============================] - 2s 4ms/step - loss: 3.8881e-06 - accuracy: 1.0000 - val_loss: 0.1603 - val_accuracy: 0.9806\n",
      "Epoch 88/100\n",
      "500/500 [==============================] - 2s 4ms/step - loss: 3.2101e-06 - accuracy: 1.0000 - val_loss: 0.1619 - val_accuracy: 0.9804\n",
      "Epoch 89/100\n",
      "500/500 [==============================] - 2s 4ms/step - loss: 0.0086 - accuracy: 0.9985 - val_loss: 0.3196 - val_accuracy: 0.9633\n",
      "Epoch 90/100\n",
      "500/500 [==============================] - 2s 4ms/step - loss: 0.0192 - accuracy: 0.9950 - val_loss: 0.1888 - val_accuracy: 0.9753\n",
      "Epoch 91/100\n",
      "500/500 [==============================] - 2s 4ms/step - loss: 0.0012 - accuracy: 0.9996 - val_loss: 0.1735 - val_accuracy: 0.9787\n",
      "Epoch 92/100\n",
      "500/500 [==============================] - 2s 4ms/step - loss: 1.3085e-04 - accuracy: 1.0000 - val_loss: 0.1720 - val_accuracy: 0.9790\n",
      "Epoch 93/100\n",
      "500/500 [==============================] - 2s 4ms/step - loss: 4.1715e-05 - accuracy: 1.0000 - val_loss: 0.1710 - val_accuracy: 0.9790\n",
      "Epoch 94/100\n",
      "500/500 [==============================] - 2s 4ms/step - loss: 3.1686e-05 - accuracy: 1.0000 - val_loss: 0.1719 - val_accuracy: 0.9792\n",
      "Epoch 95/100\n",
      "500/500 [==============================] - 2s 4ms/step - loss: 2.5993e-05 - accuracy: 1.0000 - val_loss: 0.1722 - val_accuracy: 0.9792\n",
      "Epoch 96/100\n",
      "500/500 [==============================] - 2s 4ms/step - loss: 2.1672e-05 - accuracy: 1.0000 - val_loss: 0.1722 - val_accuracy: 0.9792\n",
      "Epoch 97/100\n",
      "500/500 [==============================] - 2s 4ms/step - loss: 1.8266e-05 - accuracy: 1.0000 - val_loss: 0.1729 - val_accuracy: 0.9793\n",
      "Epoch 98/100\n",
      "500/500 [==============================] - 2s 4ms/step - loss: 1.5529e-05 - accuracy: 1.0000 - val_loss: 0.1736 - val_accuracy: 0.9795\n",
      "Epoch 99/100\n",
      "500/500 [==============================] - 2s 4ms/step - loss: 1.2948e-05 - accuracy: 1.0000 - val_loss: 0.1739 - val_accuracy: 0.9796\n",
      "Epoch 100/100\n",
      "500/500 [==============================] - 2s 4ms/step - loss: 1.0883e-05 - accuracy: 1.0000 - val_loss: 0.1753 - val_accuracy: 0.9794\n"
     ]
    }
   ],
   "source": [
    "from tensorflow import keras\n",
    "\n",
    "print(tf.__version__)\n",
    "print(keras.__version__)\n",
    "\n",
    "from tensorflow.keras.models import Sequential\n",
    "from tensorflow.keras.layers import Dense, Dropout\n",
    "from tensorflow.keras.optimizers import RMSprop\n",
    "\n",
    "batch_size = 100\n",
    "num_classes = 10\n",
    "epochs = 100\n",
    "\n",
    "print(X_train.shape[0], 'train samples')\n",
    "print(X_test.shape[0], 'test samples')\n",
    "\n",
    "## convert class vectors to binary class matrices\n",
    "y_train_c = keras.utils.to_categorical(y_train, num_classes)\n",
    "y_val_c = keras.utils.to_categorical(y_val, num_classes)\n",
    "y_test_c = keras.utils.to_categorical(y_test, num_classes)\n",
    "\n",
    "model = Sequential()\n",
    "model.add(Dense(100, activation='relu', input_shape=(784,)))\n",
    "model.add(Dense( 50, activation='relu'))\n",
    "model.add(Dense(num_classes, activation='softmax'))\n",
    "\n",
    "model.summary()\n",
    "\n",
    "model.compile(loss='categorical_crossentropy',\n",
    "              optimizer='adam',\n",
    "              metrics=['accuracy'])\n",
    "\n",
    "history = model.fit(X_train, y_train_c,\n",
    "                    batch_size=batch_size,\n",
    "                    epochs=epochs,\n",
    "                    verbose=1,\n",
    "                    validation_data=(X_val, y_val_c))"
   ]
  },
  {
   "cell_type": "code",
   "execution_count": 16,
   "metadata": {
    "scrolled": true
   },
   "outputs": [
    {
     "name": "stdout",
     "output_type": "stream",
     "text": [
      "Test loss: 0.2076595425605774\n",
      "Test accuracy: 0.9760000109672546\n"
     ]
    }
   ],
   "source": [
    "score = model.evaluate(X_test, y_test_c, verbose=0)\n",
    "print('Test loss:', score[0])\n",
    "print('Test accuracy:', score[1])"
   ]
  },
  {
   "cell_type": "markdown",
   "metadata": {},
   "source": [
    "You should see the training going through the epochs and in the end the trained network is evaluated on the test set. \n",
    "It shoud reach at least a classification accurary of 97% on the test set."
   ]
  },
  {
   "cell_type": "markdown",
   "metadata": {
    "scrolled": true
   },
   "source": [
    "If you are interested, there is a special [intro to Keras for engineers](https://keras.io/getting_started/intro_to_keras_for_engineers/)"
   ]
  },
  {
   "cell_type": "markdown",
   "metadata": {},
   "source": [
    "### Exercise 1\n",
    "\n",
    "Create a visualization of the model architecture (graph) of the keras model composed above using [`plot_model`](https://keras.io/api/utils/model_plotting_utils/). You will probably need to install `pydot`:\n",
    "\n",
    "`conda install pydot`\n",
    "\n",
    "As you can see [here](https://keras.io/guides/training_with_built_in_methods/#passing-data-to-multiinput-multioutput-models), ANN architectures can be more complex, like e.g. [GoogLeNet](https://miro.medium.com/max/2700/1*ZFPOSAted10TPd3hBQU8iQ.png)."
   ]
  },
  {
   "cell_type": "code",
   "execution_count": 17,
   "metadata": {},
   "outputs": [
    {
     "name": "stdout",
     "output_type": "stream",
     "text": [
      "Model: \"sequential_4\"\n",
      "_________________________________________________________________\n",
      "Layer (type)                 Output Shape              Param #   \n",
      "=================================================================\n",
      "dense_12 (Dense)             (None, 100)               78500     \n",
      "_________________________________________________________________\n",
      "dense_13 (Dense)             (None, 50)                5050      \n",
      "_________________________________________________________________\n",
      "dense_14 (Dense)             (None, 10)                510       \n",
      "=================================================================\n",
      "Total params: 84,060\n",
      "Trainable params: 84,060\n",
      "Non-trainable params: 0\n",
      "_________________________________________________________________\n",
      "None\n"
     ]
    },
    {
     "data": {
      "image/png": "[encoded data removed]",
      "text/plain": [
       "<IPython.core.display.Image object>"
      ]
     },
     "execution_count": 17,
     "metadata": {},
     "output_type": "execute_result"
    }
   ],
   "source": [
    "## print again the model summary (for easiy comparison with the following visualization)\n",
    "print(model.summary())\n",
    "\n",
    "## create a visualization of the model architecture (graph)\n",
    "tf.keras.utils.plot_model(model, \"model_1.png\", show_shapes=True)"
   ]
  },
  {
   "cell_type": "markdown",
   "metadata": {},
   "source": [
    "The methode [`fit`](https://keras.io/api/models/model_training_apis/#fit-method) from Keras yields a `history` objekt, which can be used to plot the loss and acc determined during training. This can be done quite selectively (see e.g. [here](https://www.kaggle.com/danbrice/keras-plot-history-full-report-and-grid-search)) or with just a few lines using [`pandas`](https://nbviewer.jupyter.org/github/ageron/handson-ml2/blob/92b5f83f8a/10_neural_nets_with_keras.ipynb#Building-an-Image-Classifier).\n",
    "\n",
    "It is also possible to use [TensorBoard](https://www.tensorflow.org/tensorboard) for visualization but this can be more challanging to [get running](https://nbviewer.jupyter.org/github/ageron/handson-ml2/blob/92b5f83f8a/10_neural_nets_with_keras.ipynb#TensorBoard).\n",
    "\n",
    "### Exercise 2\n",
    "\n",
    "Plot the loss and accuracy of the train and the val set and save the plot as SVG"
   ]
  },
  {
   "cell_type": "code",
   "execution_count": 18,
   "metadata": {
    "scrolled": true
   },
   "outputs": [
    {
     "data": {
      "image/png": "[encoded data removed]",
      "text/plain": [
       "<Figure size 576x360 with 1 Axes>"
      ]
     },
     "metadata": {
      "needs_background": "light"
     },
     "output_type": "display_data"
    }
   ],
   "source": [
    "## plot loss and acc or the train and val set (hint: can be done with just 5 lines of code)\n",
    "import pandas as pd\n",
    "import matplotlib.pyplot as plt\n",
    "\n",
    "pd.DataFrame(history.history).plot(figsize=(8, 5))\n",
    "plt.grid(True)\n",
    "plt.gca().set_ylim(0, 1)\n",
    "plt.savefig(\"model_1_acclos.svg\")\n",
    "plt.show()"
   ]
  },
  {
   "cell_type": "markdown",
   "metadata": {},
   "source": [
    "### Question 1\n",
    "\n",
    "1. What could be the reason for peaks in the loss curves?\n",
    "2. How could those peaks be avoided?"
   ]
  },
  {
   "cell_type": "markdown",
   "metadata": {},
   "source": [
    "### Answers\n",
    "\n",
    "1. Overfitting (kleine Batch_size)\n",
    "2. Bei einer kleinen Batch_size werden weniger Trainigsdatenmengen zeitgleich verarbeitet, wodurch Fehler stärker hervor treten. Durch die Erhöhung der Batch_size wird die zeitgleich verarbeitete Trainingsdatenmenge größer und der durchschnittliche Fehler hat eine geringere Gewichtung im gesamten Trainingdatensatz. Jedoch wird das Netzwerk deutlich langsamer und schlechter Optimiert. Zusatzlich wird mehr Arbeitsspeicher für die höhere Datenmenge beim trainieren benötigt."
   ]
  },
  {
   "cell_type": "markdown",
   "metadata": {},
   "source": [
    "### Optional 1\n",
    "\n",
    "If you have an idea how to avoid/reduce such peaks, try it out and plot the resulting curves again!"
   ]
  },
  {
   "cell_type": "markdown",
   "metadata": {},
   "source": [
    "### Exercise 3\n",
    "\n",
    "Now plot the loss and accuracy of the train and the test set (and save the plot as SVG) of your optimized model (from the last exercise of the last notebook), that should reach at least 98% accuracy."
   ]
  },
  {
   "cell_type": "code",
   "execution_count": 9,
   "metadata": {},
   "outputs": [
    {
     "name": "stdout",
     "output_type": "stream",
     "text": [
      "50000 train samples\n",
      "10000 test samples\n",
      "Model: \"sequential_1\"\n",
      "_________________________________________________________________\n",
      "Layer (type)                 Output Shape              Param #   \n",
      "=================================================================\n",
      "dense_3 (Dense)              (None, 200)               157000    \n",
      "_________________________________________________________________\n",
      "dense_4 (Dense)              (None, 200)               40200     \n",
      "_________________________________________________________________\n",
      "dense_5 (Dense)              (None, 10)                2010      \n",
      "=================================================================\n",
      "Total params: 199,210\n",
      "Trainable params: 199,210\n",
      "Non-trainable params: 0\n",
      "_________________________________________________________________\n",
      "Epoch 1/100\n",
      "500/500 [==============================] - 4s 8ms/step - loss: 0.2812 - accuracy: 0.9181 - val_loss: 0.1515 - val_accuracy: 0.9544\n",
      "Epoch 2/100\n",
      "500/500 [==============================] - 3s 7ms/step - loss: 0.1119 - accuracy: 0.9661 - val_loss: 0.0987 - val_accuracy: 0.9691\n",
      "Epoch 3/100\n",
      "500/500 [==============================] - 3s 7ms/step - loss: 0.0735 - accuracy: 0.9779 - val_loss: 0.0874 - val_accuracy: 0.9734\n",
      "Epoch 4/100\n",
      "500/500 [==============================] - 3s 7ms/step - loss: 0.0530 - accuracy: 0.9834 - val_loss: 0.0772 - val_accuracy: 0.9750\n",
      "Epoch 5/100\n",
      "500/500 [==============================] - 3s 6ms/step - loss: 0.0399 - accuracy: 0.9877 - val_loss: 0.0863 - val_accuracy: 0.9743\n",
      "Epoch 6/100\n",
      "500/500 [==============================] - 3s 6ms/step - loss: 0.0315 - accuracy: 0.9897 - val_loss: 0.0810 - val_accuracy: 0.9754\n",
      "Epoch 7/100\n",
      "500/500 [==============================] - 3s 6ms/step - loss: 0.0238 - accuracy: 0.9922 - val_loss: 0.0857 - val_accuracy: 0.9755\n",
      "Epoch 8/100\n",
      "500/500 [==============================] - 3s 6ms/step - loss: 0.0224 - accuracy: 0.9923 - val_loss: 0.0957 - val_accuracy: 0.9749\n",
      "Epoch 9/100\n",
      "500/500 [==============================] - 3s 6ms/step - loss: 0.0148 - accuracy: 0.9953 - val_loss: 0.0965 - val_accuracy: 0.9746\n",
      "Epoch 10/100\n",
      "500/500 [==============================] - 3s 6ms/step - loss: 0.0182 - accuracy: 0.9935 - val_loss: 0.0979 - val_accuracy: 0.9741\n",
      "Epoch 11/100\n",
      "500/500 [==============================] - 3s 6ms/step - loss: 0.0136 - accuracy: 0.9953 - val_loss: 0.0859 - val_accuracy: 0.9786\n",
      "Epoch 12/100\n",
      "500/500 [==============================] - 3s 6ms/step - loss: 0.0117 - accuracy: 0.9961 - val_loss: 0.0899 - val_accuracy: 0.9775\n",
      "Epoch 13/100\n",
      "500/500 [==============================] - 3s 6ms/step - loss: 0.0085 - accuracy: 0.9973 - val_loss: 0.1143 - val_accuracy: 0.9751\n",
      "Epoch 14/100\n",
      "500/500 [==============================] - 3s 6ms/step - loss: 0.0137 - accuracy: 0.9955 - val_loss: 0.0936 - val_accuracy: 0.9781\n",
      "Epoch 15/100\n",
      "500/500 [==============================] - 3s 6ms/step - loss: 0.0077 - accuracy: 0.9973 - val_loss: 0.1049 - val_accuracy: 0.9776\n",
      "Epoch 16/100\n",
      "500/500 [==============================] - 3s 6ms/step - loss: 0.0092 - accuracy: 0.9970 - val_loss: 0.0945 - val_accuracy: 0.9798\n",
      "Epoch 17/100\n",
      "500/500 [==============================] - 3s 6ms/step - loss: 0.0107 - accuracy: 0.9961 - val_loss: 0.1030 - val_accuracy: 0.9781\n",
      "Epoch 18/100\n",
      "500/500 [==============================] - 3s 6ms/step - loss: 0.0092 - accuracy: 0.9968 - val_loss: 0.1020 - val_accuracy: 0.9785\n",
      "Epoch 19/100\n",
      "500/500 [==============================] - 3s 6ms/step - loss: 0.0064 - accuracy: 0.9981 - val_loss: 0.0951 - val_accuracy: 0.9804\n",
      "Epoch 20/100\n",
      "500/500 [==============================] - 3s 6ms/step - loss: 0.0016 - accuracy: 0.9996 - val_loss: 0.1015 - val_accuracy: 0.9800\n",
      "Epoch 21/100\n",
      "500/500 [==============================] - 3s 6ms/step - loss: 0.0107 - accuracy: 0.9963 - val_loss: 0.1271 - val_accuracy: 0.9746\n",
      "Epoch 22/100\n",
      "500/500 [==============================] - 3s 6ms/step - loss: 0.0089 - accuracy: 0.9972 - val_loss: 0.1162 - val_accuracy: 0.9764\n",
      "Epoch 23/100\n",
      "500/500 [==============================] - 3s 6ms/step - loss: 0.0046 - accuracy: 0.9986 - val_loss: 0.1102 - val_accuracy: 0.9769\n",
      "Epoch 24/100\n",
      "500/500 [==============================] - 3s 6ms/step - loss: 0.0105 - accuracy: 0.9966 - val_loss: 0.1356 - val_accuracy: 0.9739\n",
      "Epoch 25/100\n",
      "500/500 [==============================] - 3s 6ms/step - loss: 0.0039 - accuracy: 0.9988 - val_loss: 0.1106 - val_accuracy: 0.9780\n",
      "Epoch 26/100\n",
      "500/500 [==============================] - 3s 6ms/step - loss: 0.0079 - accuracy: 0.9973 - val_loss: 0.1517 - val_accuracy: 0.9725\n",
      "Epoch 27/100\n",
      "500/500 [==============================] - 3s 6ms/step - loss: 0.0062 - accuracy: 0.9982 - val_loss: 0.1269 - val_accuracy: 0.9783\n",
      "Epoch 28/100\n",
      "500/500 [==============================] - 3s 6ms/step - loss: 0.0072 - accuracy: 0.9979 - val_loss: 0.1249 - val_accuracy: 0.9785\n",
      "Epoch 29/100\n",
      "500/500 [==============================] - 3s 6ms/step - loss: 0.0058 - accuracy: 0.9982 - val_loss: 0.1366 - val_accuracy: 0.9775\n",
      "Epoch 30/100\n",
      "500/500 [==============================] - 3s 6ms/step - loss: 0.0043 - accuracy: 0.9984 - val_loss: 0.1109 - val_accuracy: 0.9803\n",
      "Epoch 31/100\n",
      "500/500 [==============================] - 3s 7ms/step - loss: 0.0019 - accuracy: 0.9994 - val_loss: 0.1243 - val_accuracy: 0.9778\n",
      "Epoch 32/100\n",
      "500/500 [==============================] - 3s 7ms/step - loss: 0.0094 - accuracy: 0.9971 - val_loss: 0.1375 - val_accuracy: 0.9764\n",
      "Epoch 33/100\n",
      "500/500 [==============================] - 3s 7ms/step - loss: 0.0054 - accuracy: 0.9983 - val_loss: 0.1225 - val_accuracy: 0.9809\n",
      "Epoch 34/100\n",
      "500/500 [==============================] - 3s 7ms/step - loss: 0.0027 - accuracy: 0.9992 - val_loss: 0.1213 - val_accuracy: 0.9806\n",
      "Epoch 35/100\n",
      "500/500 [==============================] - 3s 6ms/step - loss: 0.0016 - accuracy: 0.9997 - val_loss: 0.1275 - val_accuracy: 0.9808\n",
      "Epoch 36/100\n",
      "500/500 [==============================] - 3s 6ms/step - loss: 0.0108 - accuracy: 0.9966 - val_loss: 0.1353 - val_accuracy: 0.9790\n",
      "Epoch 37/100\n",
      "500/500 [==============================] - 3s 6ms/step - loss: 0.0053 - accuracy: 0.9981 - val_loss: 0.1199 - val_accuracy: 0.9807\n",
      "Epoch 38/100\n",
      "500/500 [==============================] - 3s 7ms/step - loss: 0.0035 - accuracy: 0.9986 - val_loss: 0.1346 - val_accuracy: 0.9791\n",
      "Epoch 39/100\n",
      "500/500 [==============================] - 3s 7ms/step - loss: 0.0036 - accuracy: 0.9987 - val_loss: 0.1530 - val_accuracy: 0.9762\n",
      "Epoch 40/100\n",
      "500/500 [==============================] - 3s 6ms/step - loss: 0.0051 - accuracy: 0.9983 - val_loss: 0.1273 - val_accuracy: 0.9813\n",
      "Epoch 41/100\n",
      "500/500 [==============================] - 3s 6ms/step - loss: 0.0048 - accuracy: 0.9985 - val_loss: 0.1442 - val_accuracy: 0.9781\n",
      "Epoch 42/100\n",
      "500/500 [==============================] - 3s 6ms/step - loss: 0.0069 - accuracy: 0.9977 - val_loss: 0.1378 - val_accuracy: 0.9802\n",
      "Epoch 43/100\n",
      "500/500 [==============================] - 3s 6ms/step - loss: 0.0055 - accuracy: 0.9984 - val_loss: 0.1275 - val_accuracy: 0.9803\n",
      "Epoch 44/100\n",
      "500/500 [==============================] - 3s 6ms/step - loss: 0.0033 - accuracy: 0.9989 - val_loss: 0.1232 - val_accuracy: 0.9808\n",
      "Epoch 45/100\n",
      "500/500 [==============================] - 3s 6ms/step - loss: 0.0018 - accuracy: 0.9994 - val_loss: 0.1135 - val_accuracy: 0.9821\n",
      "Epoch 46/100\n",
      "500/500 [==============================] - 3s 6ms/step - loss: 0.0039 - accuracy: 0.9987 - val_loss: 0.1667 - val_accuracy: 0.9779\n",
      "Epoch 47/100\n",
      "500/500 [==============================] - 3s 6ms/step - loss: 0.0057 - accuracy: 0.9982 - val_loss: 0.1319 - val_accuracy: 0.9812\n",
      "Epoch 48/100\n",
      "500/500 [==============================] - 3s 6ms/step - loss: 0.0034 - accuracy: 0.9988 - val_loss: 0.1570 - val_accuracy: 0.9787\n",
      "Epoch 49/100\n",
      "500/500 [==============================] - 3s 6ms/step - loss: 0.0064 - accuracy: 0.9980 - val_loss: 0.1273 - val_accuracy: 0.9819\n",
      "Epoch 50/100\n",
      "500/500 [==============================] - 3s 6ms/step - loss: 0.0020 - accuracy: 0.9993 - val_loss: 0.1366 - val_accuracy: 0.9810\n",
      "Epoch 51/100\n",
      "500/500 [==============================] - 3s 6ms/step - loss: 0.0066 - accuracy: 0.9981 - val_loss: 0.1610 - val_accuracy: 0.9796\n",
      "Epoch 52/100\n",
      "500/500 [==============================] - 3s 6ms/step - loss: 0.0038 - accuracy: 0.9988 - val_loss: 0.1569 - val_accuracy: 0.9774\n",
      "Epoch 53/100\n",
      "500/500 [==============================] - 3s 6ms/step - loss: 0.0023 - accuracy: 0.9993 - val_loss: 0.1379 - val_accuracy: 0.9805\n",
      "Epoch 54/100\n",
      "500/500 [==============================] - 3s 6ms/step - loss: 0.0016 - accuracy: 0.9996 - val_loss: 0.1433 - val_accuracy: 0.9803\n",
      "Epoch 55/100\n",
      "500/500 [==============================] - 3s 6ms/step - loss: 3.4605e-04 - accuracy: 0.9999 - val_loss: 0.1363 - val_accuracy: 0.9814\n",
      "Epoch 56/100\n",
      "500/500 [==============================] - 3s 6ms/step - loss: 5.3312e-05 - accuracy: 1.0000 - val_loss: 0.1326 - val_accuracy: 0.9818\n",
      "Epoch 57/100\n",
      "500/500 [==============================] - 3s 6ms/step - loss: 9.8881e-06 - accuracy: 1.0000 - val_loss: 0.1326 - val_accuracy: 0.9820\n",
      "Epoch 58/100\n",
      "500/500 [==============================] - 3s 6ms/step - loss: 7.1719e-06 - accuracy: 1.0000 - val_loss: 0.1327 - val_accuracy: 0.9819\n",
      "Epoch 59/100\n",
      "500/500 [==============================] - 3s 6ms/step - loss: 5.7142e-06 - accuracy: 1.0000 - val_loss: 0.1332 - val_accuracy: 0.9820\n",
      "Epoch 60/100\n",
      "500/500 [==============================] - 3s 6ms/step - loss: 4.6869e-06 - accuracy: 1.0000 - val_loss: 0.1335 - val_accuracy: 0.9820\n",
      "Epoch 61/100\n",
      "500/500 [==============================] - 3s 6ms/step - loss: 3.8503e-06 - accuracy: 1.0000 - val_loss: 0.1340 - val_accuracy: 0.9822\n",
      "Epoch 62/100\n",
      "500/500 [==============================] - 3s 6ms/step - loss: 3.1823e-06 - accuracy: 1.0000 - val_loss: 0.1345 - val_accuracy: 0.9822\n",
      "Epoch 63/100\n",
      "500/500 [==============================] - 3s 6ms/step - loss: 2.6254e-06 - accuracy: 1.0000 - val_loss: 0.1350 - val_accuracy: 0.9822\n",
      "Epoch 64/100\n",
      "500/500 [==============================] - 3s 6ms/step - loss: 2.1806e-06 - accuracy: 1.0000 - val_loss: 0.1356 - val_accuracy: 0.9822\n",
      "Epoch 65/100\n",
      "500/500 [==============================] - 3s 6ms/step - loss: 1.7861e-06 - accuracy: 1.0000 - val_loss: 0.1364 - val_accuracy: 0.9823\n",
      "Epoch 66/100\n",
      "500/500 [==============================] - 3s 7ms/step - loss: 1.4754e-06 - accuracy: 1.0000 - val_loss: 0.1373 - val_accuracy: 0.9823\n",
      "Epoch 67/100\n",
      "500/500 [==============================] - 3s 6ms/step - loss: 1.2137e-06 - accuracy: 1.0000 - val_loss: 0.1380 - val_accuracy: 0.9823\n",
      "Epoch 68/100\n",
      "500/500 [==============================] - 3s 7ms/step - loss: 9.9630e-07 - accuracy: 1.0000 - val_loss: 0.1390 - val_accuracy: 0.9825\n",
      "Epoch 69/100\n",
      "500/500 [==============================] - 4s 7ms/step - loss: 8.0164e-07 - accuracy: 1.0000 - val_loss: 0.1401 - val_accuracy: 0.9824\n",
      "Epoch 70/100\n",
      "500/500 [==============================] - 4s 7ms/step - loss: 6.5047e-07 - accuracy: 1.0000 - val_loss: 0.1413 - val_accuracy: 0.9825\n",
      "Epoch 71/100\n",
      "500/500 [==============================] - 4s 7ms/step - loss: 5.2792e-07 - accuracy: 1.0000 - val_loss: 0.1424 - val_accuracy: 0.9826\n",
      "Epoch 72/100\n",
      "500/500 [==============================] - 3s 6ms/step - loss: 4.2255e-07 - accuracy: 1.0000 - val_loss: 0.1437 - val_accuracy: 0.9826\n",
      "Epoch 73/100\n",
      "500/500 [==============================] - 3s 6ms/step - loss: 3.3576e-07 - accuracy: 1.0000 - val_loss: 0.1450 - val_accuracy: 0.9827\n",
      "Epoch 74/100\n",
      "500/500 [==============================] - 3s 6ms/step - loss: 2.6707e-07 - accuracy: 1.0000 - val_loss: 0.1463 - val_accuracy: 0.9827\n",
      "Epoch 75/100\n",
      "500/500 [==============================] - 3s 6ms/step - loss: 2.1464e-07 - accuracy: 1.0000 - val_loss: 0.1478 - val_accuracy: 0.9826\n",
      "Epoch 76/100\n",
      "500/500 [==============================] - 3s 6ms/step - loss: 1.7220e-07 - accuracy: 1.0000 - val_loss: 0.1493 - val_accuracy: 0.9827\n",
      "Epoch 77/100\n",
      "500/500 [==============================] - 3s 6ms/step - loss: 1.3586e-07 - accuracy: 1.0000 - val_loss: 0.1505 - val_accuracy: 0.9828\n",
      "Epoch 78/100\n",
      "500/500 [==============================] - 3s 6ms/step - loss: 1.1007e-07 - accuracy: 1.0000 - val_loss: 0.1521 - val_accuracy: 0.9827\n",
      "Epoch 79/100\n",
      "500/500 [==============================] - 3s 6ms/step - loss: 8.7182e-08 - accuracy: 1.0000 - val_loss: 0.1536 - val_accuracy: 0.9827\n",
      "Epoch 80/100\n",
      "500/500 [==============================] - 3s 6ms/step - loss: 6.9454e-08 - accuracy: 1.0000 - val_loss: 0.1549 - val_accuracy: 0.9830\n",
      "Epoch 81/100\n",
      "500/500 [==============================] - 3s 6ms/step - loss: 5.5530e-08 - accuracy: 1.0000 - val_loss: 0.1567 - val_accuracy: 0.9831\n",
      "Epoch 82/100\n",
      "500/500 [==============================] - 3s 6ms/step - loss: 4.5099e-08 - accuracy: 1.0000 - val_loss: 0.1581 - val_accuracy: 0.9831\n",
      "Epoch 83/100\n",
      "500/500 [==============================] - 3s 6ms/step - loss: 3.5381e-08 - accuracy: 1.0000 - val_loss: 0.1592 - val_accuracy: 0.9833\n",
      "Epoch 84/100\n",
      "500/500 [==============================] - 3s 6ms/step - loss: 2.8493e-08 - accuracy: 1.0000 - val_loss: 0.1611 - val_accuracy: 0.9831\n",
      "Epoch 85/100\n",
      "500/500 [==============================] - 3s 6ms/step - loss: 2.3189e-08 - accuracy: 1.0000 - val_loss: 0.1626 - val_accuracy: 0.9829\n",
      "Epoch 86/100\n",
      "500/500 [==============================] - 3s 6ms/step - loss: 1.8454e-08 - accuracy: 1.0000 - val_loss: 0.1642 - val_accuracy: 0.9832\n",
      "Epoch 87/100\n",
      "500/500 [==============================] - 3s 6ms/step - loss: 1.4987e-08 - accuracy: 1.0000 - val_loss: 0.1652 - val_accuracy: 0.9833\n",
      "Epoch 88/100\n",
      "500/500 [==============================] - 3s 6ms/step - loss: 1.2546e-08 - accuracy: 1.0000 - val_loss: 0.1665 - val_accuracy: 0.9830\n",
      "Epoch 89/100\n",
      "500/500 [==============================] - 3s 6ms/step - loss: 1.0326e-08 - accuracy: 1.0000 - val_loss: 0.1677 - val_accuracy: 0.9832\n",
      "Epoch 90/100\n",
      "500/500 [==============================] - 3s 6ms/step - loss: 8.5330e-09 - accuracy: 1.0000 - val_loss: 0.1690 - val_accuracy: 0.9832\n",
      "Epoch 91/100\n",
      "500/500 [==============================] - 3s 6ms/step - loss: 7.1549e-09 - accuracy: 1.0000 - val_loss: 0.1702 - val_accuracy: 0.9832\n",
      "Epoch 92/100\n",
      "500/500 [==============================] - 3s 6ms/step - loss: 5.9557e-09 - accuracy: 1.0000 - val_loss: 0.1710 - val_accuracy: 0.9834\n",
      "Epoch 93/100\n",
      "500/500 [==============================] - 3s 6ms/step - loss: 5.0950e-09 - accuracy: 1.0000 - val_loss: 0.1722 - val_accuracy: 0.9833\n",
      "Epoch 94/100\n",
      "500/500 [==============================] - 3s 6ms/step - loss: 4.3821e-09 - accuracy: 1.0000 - val_loss: 0.1732 - val_accuracy: 0.9832\n",
      "Epoch 95/100\n",
      "500/500 [==============================] - 3s 6ms/step - loss: 3.7622e-09 - accuracy: 1.0000 - val_loss: 0.1739 - val_accuracy: 0.9832\n",
      "Epoch 96/100\n",
      "500/500 [==============================] - 3s 6ms/step - loss: 3.2663e-09 - accuracy: 1.0000 - val_loss: 0.1746 - val_accuracy: 0.9831\n",
      "Epoch 97/100\n",
      "500/500 [==============================] - 3s 6ms/step - loss: 2.8849e-09 - accuracy: 1.0000 - val_loss: 0.1754 - val_accuracy: 0.9831\n",
      "Epoch 98/100\n",
      "500/500 [==============================] - 3s 6ms/step - loss: 2.5678e-09 - accuracy: 1.0000 - val_loss: 0.1761 - val_accuracy: 0.9832\n",
      "Epoch 99/100\n",
      "500/500 [==============================] - 3s 6ms/step - loss: 2.2578e-09 - accuracy: 1.0000 - val_loss: 0.1769 - val_accuracy: 0.9833\n",
      "Epoch 100/100\n",
      "500/500 [==============================] - 3s 6ms/step - loss: 2.0003e-09 - accuracy: 1.0000 - val_loss: 0.1773 - val_accuracy: 0.9832\n"
     ]
    }
   ],
   "source": [
    "## put the construction and training of your best model here:\n",
    "batch_size = 100\n",
    "num_classes = 10\n",
    "epochs = 100\n",
    "\n",
    "print(X_train.shape[0], 'train samples')\n",
    "print(X_test.shape[0], 'test samples')\n",
    "\n",
    "## convert class vectors to binary class matrices\n",
    "y_train_c = keras.utils.to_categorical(y_train, num_classes)\n",
    "y_val_c = keras.utils.to_categorical(y_val, num_classes)\n",
    "y_test_c = keras.utils.to_categorical(y_test, num_classes)\n",
    "\n",
    "model2 = Sequential()\n",
    "model2.add(Dense(200, activation='relu', input_shape=(784,)))\n",
    "model2.add(Dense(200, activation='relu'))\n",
    "model2.add(Dense(num_classes, activation='softmax'))\n",
    "\n",
    "model2.summary()\n",
    "\n",
    "model2.compile(loss='categorical_crossentropy',\n",
    "              optimizer='adam',\n",
    "              metrics=['accuracy'])\n",
    "\n",
    "history2 = model2.fit(X_train, y_train_c,\n",
    "                    batch_size=batch_size,\n",
    "                    epochs=epochs,\n",
    "                    verbose=1,\n",
    "                    validation_data=(X_val, y_val_c))"
   ]
  },
  {
   "cell_type": "code",
   "execution_count": 13,
   "metadata": {},
   "outputs": [
    {
     "name": "stdout",
     "output_type": "stream",
     "text": [
      "Test loss: 0.22478310763835907\n",
      "Test accuracy: 0.9819999933242798\n"
     ]
    }
   ],
   "source": [
    "## sorce your best model\n",
    "score = model2.evaluate(X_test, y_test_c, verbose=0)\n",
    "print('Test loss:', score[0])\n",
    "print('Test accuracy:', score[1])"
   ]
  },
  {
   "cell_type": "code",
   "execution_count": 14,
   "metadata": {},
   "outputs": [
    {
     "data": {
      "image/png": "[encoded data removed]",
      "text/plain": [
       "<Figure size 576x360 with 1 Axes>"
      ]
     },
     "metadata": {
      "needs_background": "light"
     },
     "output_type": "display_data"
    }
   ],
   "source": [
    "## plot loss and acc or the train and val set of your best model\n",
    "pd.DataFrame(history2.history).plot(figsize=(8, 5))\n",
    "plt.grid(True)\n",
    "plt.gca().set_ylim(0, 1)\n",
    "plt.savefig(\"Modell_2_acclos.svg\")\n",
    "plt.show()"
   ]
  },
  {
   "cell_type": "markdown",
   "metadata": {},
   "source": [
    "### Question 2\n",
    "\n",
    "Compare the two plots. \n",
    "\n",
    "1. What difference do you see? \n",
    "2. Can you explain them?\n",
    "\n",
    "### Answers\n",
    "\n",
    "1. Die *peaks* in den *loss* Graphen sind nun deutlich kleiner und sind ab 60 *epochs* ganz weg.\n",
    "2. Erhöhung der Anzahl der Neuronen. Dadurch hat er mehr Möglichkeiten, seinen Wert zu berechnen. Das ist im Graph weiter unten an den fehlenden *peaks* zu sehen."
   ]
  },
  {
   "cell_type": "markdown",
   "metadata": {},
   "source": [
    "To use the model for \"production\" on a special device (e.g. cash mashine, mobile phone) or in a web service, the model needs to be exported and loaded on the target device.\n",
    "\n",
    "### Exercise 5\n",
    "\n",
    "Export your best model in H5 format and then load it again (as you would do on a target device) wiht a different name and test it by running predictions (scoring) on the test set."
   ]
  },
  {
   "cell_type": "code",
   "execution_count": 12,
   "metadata": {},
   "outputs": [
    {
     "name": "stdout",
     "output_type": "stream",
     "text": [
      "Test loss: 0.22478310763835907\n",
      "Test accuracy: 0.9819999933242798\n"
     ]
    }
   ],
   "source": [
    "## export model as H5\n",
    "model2.save(\"model2.h5\") \n",
    "\n",
    "## load model from H5 under different name\n",
    "model3 = keras.models.load_model(\"model2.h5\")\n",
    "\n",
    "## sore the test set\n",
    "score = model3.evaluate(X_test, y_test_c, verbose=0)\n",
    "print('Test loss:', score[0])\n",
    "print('Test accuracy:', score[1])"
   ]
  },
  {
   "cell_type": "markdown",
   "metadata": {},
   "source": [
    "Model saving can also be used for `EarlyStopping`.\n",
    "\n",
    "### Optional 2\n",
    "\n",
    "Train your best model until it obviously overfits the validation data. Use an EarlyStopping callback to get the model when the validation loss/acc was best, following this [tutorial](https://nbviewer.jupyter.org/github/ageron/handson-ml2/blob/92b5f83f8a/10_neural_nets_with_keras.ipynb#10.)."
   ]
  },
  {
   "cell_type": "markdown",
   "metadata": {},
   "source": [
    "Finally check how your best model performs on the (never seen) test set:"
   ]
  },
  {
   "cell_type": "markdown",
   "metadata": {},
   "source": [
    "### Optional 3\n",
    "\n",
    "To get a feeling how much work it is to create a training dataset, test the model prediction on some digits you wrote yourself!"
   ]
  }
 ],
 "metadata": {
  "kernelspec": {
   "display_name": "Python 3",
   "language": "python",
   "name": "python3"
  },
  "language_info": {
   "codemirror_mode": {
    "name": "ipython",
    "version": 3
   },
   "file_extension": ".py",
   "mimetype": "text/x-python",
   "name": "python",
   "nbconvert_exporter": "python",
   "pygments_lexer": "ipython3",
   "version": "3.7.8"
  }
 },
 "nbformat": 4,
 "nbformat_minor": 2
}
